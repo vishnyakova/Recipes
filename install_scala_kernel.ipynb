{
 "cells": [
  {
   "cell_type": "code",
   "execution_count": 1,
   "metadata": {},
   "outputs": [
    {
     "name": "stdout",
     "output_type": "stream",
     "text": [
      "Collecting spylon-kernel\n",
      "  Downloading https://files.pythonhosted.org/packages/3b/26/0c1c289ab535489b0e290461b0f2c45a00d2033a50a58a45f6d00c5fb205/spylon-kernel-0.4.1.tar.gz\n",
      "Requirement already satisfied: ipykernel in c:\\users\\avishn955\\appdata\\local\\continuum\\anaconda3\\lib\\site-packages (from spylon-kernel) (4.8.2)\n",
      "Requirement already satisfied: jedi>=0.10 in c:\\users\\avishn955\\appdata\\local\\continuum\\anaconda3\\lib\\site-packages (from spylon-kernel) (0.12.0)\n",
      "Collecting metakernel (from spylon-kernel)\n",
      "  Downloading https://files.pythonhosted.org/packages/bb/bd/658103e652c2c12a791c83539496541e8f8d755c1cc3293861983f0a6742/metakernel-0.24.2-py2.py3-none-any.whl (208kB)\n",
      "Collecting spylon[spark] (from spylon-kernel)\n",
      "  Downloading https://files.pythonhosted.org/packages/a1/1b/236051a959a6cc76f5962e32aa743a31e77e3acd27a742e625d49eef4c7a/spylon-0.3.0.tar.gz (140kB)\n",
      "Requirement already satisfied: tornado in c:\\users\\avishn955\\appdata\\local\\continuum\\anaconda3\\lib\\site-packages (from spylon-kernel) (5.0.2)\n",
      "Requirement already satisfied: ipython>=4.0.0 in c:\\users\\avishn955\\appdata\\local\\continuum\\anaconda3\\lib\\site-packages (from ipykernel->spylon-kernel) (6.4.0)\n",
      "Requirement already satisfied: traitlets>=4.1.0 in c:\\users\\avishn955\\appdata\\local\\continuum\\anaconda3\\lib\\site-packages (from ipykernel->spylon-kernel) (4.3.2)\n",
      "Requirement already satisfied: jupyter_client in c:\\users\\avishn955\\appdata\\local\\continuum\\anaconda3\\lib\\site-packages (from ipykernel->spylon-kernel) (5.2.3)\n",
      "Requirement already satisfied: parso>=0.2.0 in c:\\users\\avishn955\\appdata\\local\\continuum\\anaconda3\\lib\\site-packages (from jedi>=0.10->spylon-kernel) (0.2.0)\n",
      "Collecting ipyparallel (from metakernel->spylon-kernel)\n",
      "  Downloading https://files.pythonhosted.org/packages/3f/82/aaa7a357845a98d4028f27c799f0d3bb2fe55fc1247c73dc712b4ae2344c/ipyparallel-6.2.4-py2.py3-none-any.whl (198kB)\n",
      "Collecting pexpect>=4.2 (from metakernel->spylon-kernel)\n",
      "  Downloading https://files.pythonhosted.org/packages/0e/3e/377007e3f36ec42f1b84ec322ee12141a9e10d808312e5738f52f80a232c/pexpect-4.7.0-py2.py3-none-any.whl (58kB)\n",
      "Collecting findspark (from spylon[spark]->spylon-kernel)\n",
      "  Downloading https://files.pythonhosted.org/packages/b1/c8/e6e1f6a303ae5122dc28d131b5a67c5eb87cbf8f7ac5b9f87764ea1b1e1e/findspark-1.3.0-py2.py3-none-any.whl\n",
      "Requirement already satisfied: pyyaml in c:\\users\\avishn955\\appdata\\local\\continuum\\anaconda3\\lib\\site-packages (from spylon[spark]->spylon-kernel) (3.12)\n",
      "Requirement already satisfied: prompt-toolkit<2.0.0,>=1.0.15 in c:\\users\\avishn955\\appdata\\local\\continuum\\anaconda3\\lib\\site-packages (from ipython>=4.0.0->ipykernel->spylon-kernel) (1.0.15)\n",
      "Requirement already satisfied: setuptools>=18.5 in c:\\users\\avishn955\\appdata\\local\\continuum\\anaconda3\\lib\\site-packages (from ipython>=4.0.0->ipykernel->spylon-kernel) (39.1.0)\n",
      "Requirement already satisfied: decorator in c:\\users\\avishn955\\appdata\\local\\continuum\\anaconda3\\lib\\site-packages (from ipython>=4.0.0->ipykernel->spylon-kernel) (4.3.0)\n",
      "Requirement already satisfied: simplegeneric>0.8 in c:\\users\\avishn955\\appdata\\local\\continuum\\anaconda3\\lib\\site-packages (from ipython>=4.0.0->ipykernel->spylon-kernel) (0.8.1)\n",
      "Requirement already satisfied: pygments in c:\\users\\avishn955\\appdata\\local\\continuum\\anaconda3\\lib\\site-packages (from ipython>=4.0.0->ipykernel->spylon-kernel) (2.2.0)\n",
      "Requirement already satisfied: pickleshare in c:\\users\\avishn955\\appdata\\local\\continuum\\anaconda3\\lib\\site-packages (from ipython>=4.0.0->ipykernel->spylon-kernel) (0.7.4)\n",
      "Requirement already satisfied: colorama; sys_platform == \"win32\" in c:\\users\\avishn955\\appdata\\local\\continuum\\anaconda3\\lib\\site-packages (from ipython>=4.0.0->ipykernel->spylon-kernel) (0.3.9)\n",
      "Requirement already satisfied: backcall in c:\\users\\avishn955\\appdata\\local\\continuum\\anaconda3\\lib\\site-packages (from ipython>=4.0.0->ipykernel->spylon-kernel) (0.1.0)\n",
      "Requirement already satisfied: ipython_genutils in c:\\users\\avishn955\\appdata\\local\\continuum\\anaconda3\\lib\\site-packages (from traitlets>=4.1.0->ipykernel->spylon-kernel) (0.2.0)\n",
      "Requirement already satisfied: six in c:\\users\\avishn955\\appdata\\local\\continuum\\anaconda3\\lib\\site-packages (from traitlets>=4.1.0->ipykernel->spylon-kernel) (1.11.0)\n",
      "Requirement already satisfied: jupyter_core in c:\\users\\avishn955\\appdata\\local\\continuum\\anaconda3\\lib\\site-packages (from jupyter_client->ipykernel->spylon-kernel) (4.4.0)\n",
      "Requirement already satisfied: pyzmq>=13 in c:\\users\\avishn955\\appdata\\local\\continuum\\anaconda3\\lib\\site-packages (from jupyter_client->ipykernel->spylon-kernel) (17.0.0)\n",
      "Requirement already satisfied: python-dateutil>=2.1 in c:\\users\\avishn955\\appdata\\local\\continuum\\anaconda3\\lib\\site-packages (from jupyter_client->ipykernel->spylon-kernel) (2.7.3)\n",
      "Collecting ptyprocess>=0.5 (from pexpect>=4.2->metakernel->spylon-kernel)\n",
      "  Downloading https://files.pythonhosted.org/packages/d1/29/605c2cc68a9992d18dada28206eeada56ea4bd07a239669da41674648b6f/ptyprocess-0.6.0-py2.py3-none-any.whl\n",
      "Requirement already satisfied: wcwidth in c:\\users\\avishn955\\appdata\\local\\continuum\\anaconda3\\lib\\site-packages (from prompt-toolkit<2.0.0,>=1.0.15->ipython>=4.0.0->ipykernel->spylon-kernel) (0.1.7)\n",
      "Building wheels for collected packages: spylon-kernel, spylon\n",
      "  Building wheel for spylon-kernel (setup.py): started\n",
      "  Building wheel for spylon-kernel (setup.py): finished with status 'done'\n",
      "  Stored in directory: C:\\Users\\avishn955\\AppData\\Local\\pip\\Cache\\wheels\\1c\\e6\\b3\\c9d20271bca97e9b79a3559f7a9a2a6a85722d62ea918cb135\n",
      "  Building wheel for spylon (setup.py): started\n",
      "  Building wheel for spylon (setup.py): finished with status 'done'\n",
      "  Stored in directory: C:\\Users\\avishn955\\AppData\\Local\\pip\\Cache\\wheels\\ed\\02\\6c\\be6d52862a917faa5ec41195bb50116791ed2fc209e9d1c47a\n",
      "Successfully built spylon-kernel spylon\n",
      "Installing collected packages: ipyparallel, ptyprocess, pexpect, metakernel, findspark, spylon, spylon-kernel\n",
      "Successfully installed findspark-1.3.0 ipyparallel-6.2.4 metakernel-0.24.2 pexpect-4.7.0 ptyprocess-0.6.0 spylon-0.3.0 spylon-kernel-0.4.1\n"
     ]
    }
   ],
   "source": [
    "import sys\n",
    "!{sys.executable} -m pip install spylon-kernel"
   ]
  },
  {
   "cell_type": "code",
   "execution_count": 2,
   "metadata": {},
   "outputs": [
    {
     "name": "stderr",
     "output_type": "stream",
     "text": [
      "[InstallKernelSpec] Installed kernelspec spylon-kernel in C:\\ProgramData\\jupyter\\kernels\\spylon-kernel\n"
     ]
    }
   ],
   "source": [
    "import sys\n",
    "!{sys.executable} -m spylon_kernel install"
   ]
  },
  {
   "cell_type": "code",
   "execution_count": null,
   "metadata": {},
   "outputs": [],
   "source": []
  }
 ],
 "metadata": {
  "kernelspec": {
   "display_name": "Python 3",
   "language": "python",
   "name": "python3"
  },
  "language_info": {
   "codemirror_mode": {
    "name": "ipython",
    "version": 3
   },
   "file_extension": ".py",
   "mimetype": "text/x-python",
   "name": "python",
   "nbconvert_exporter": "python",
   "pygments_lexer": "ipython3",
   "version": "3.6.5"
  }
 },
 "nbformat": 4,
 "nbformat_minor": 2
}
