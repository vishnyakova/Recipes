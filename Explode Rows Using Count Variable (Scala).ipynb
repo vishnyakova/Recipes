{
 "cells": [
  {
   "cell_type": "markdown",
   "metadata": {},
   "source": [
    "Explode rows using a count variable"
   ]
  },
  {
   "cell_type": "code",
   "execution_count": 5,
   "metadata": {},
   "outputs": [
    {
     "name": "stdout",
     "output_type": "stream",
     "text": [
      "+------+-----+\n",
      "|letter|count|\n",
      "+------+-----+\n",
      "|     a|   10|\n",
      "|     b|    4|\n",
      "+------+-----+\n",
      "\n"
     ]
    },
    {
     "data": {
      "text/plain": [
       "df: org.apache.spark.sql.DataFrame = [letter: string, count: int]\n"
      ]
     },
     "execution_count": 5,
     "metadata": {},
     "output_type": "execute_result"
    }
   ],
   "source": [
    "val df = Seq((\"a\", 10), (\"b\", 4)).toDF(\"letter\", \"count\")\n",
    "\n",
    "df.show()"
   ]
  },
  {
   "cell_type": "code",
   "execution_count": 6,
   "metadata": {},
   "outputs": [
    {
     "data": {
      "text/plain": [
       "repeatRows: Int => Array[Int] = <function1>\r\n",
       "repeatRowsUDF: org.apache.spark.sql.expressions.UserDefinedFunction = UserDefinedFunction(<function1>,ArrayType(IntegerType,false),Some(List(IntegerType)))\n"
      ]
     },
     "execution_count": 6,
     "metadata": {},
     "output_type": "execute_result"
    }
   ],
   "source": [
    "// repeat each row X times\n",
    "// udf to explode data\n",
    "val repeatRows = (count: Int) => {\n",
    " (1 to count).toArray\n",
    "}\n",
    "val repeatRowsUDF = udf(repeatRows)\n",
    "\n"
   ]
  },
  {
   "cell_type": "code",
   "execution_count": 9,
   "metadata": {},
   "outputs": [
    {
     "name": "stdout",
     "output_type": "stream",
     "text": [
      "+------+\n",
      "|letter|\n",
      "+------+\n",
      "|     a|\n",
      "|     a|\n",
      "|     a|\n",
      "|     a|\n",
      "|     a|\n",
      "|     a|\n",
      "|     a|\n",
      "|     a|\n",
      "|     a|\n",
      "|     a|\n",
      "|     b|\n",
      "|     b|\n",
      "|     b|\n",
      "|     b|\n",
      "+------+\n",
      "\n"
     ]
    }
   ],
   "source": [
    "df\n",
    ".withColumn(\"array\", repeatRowsUDF($\"count\"))\n",
    ".withColumn(\"array\", explode($\"array\"))\n",
    ".drop(\"count\", \"array\")\n",
    ".show()"
   ]
  }
 ],
 "metadata": {
  "kernelspec": {
   "display_name": "spylon-kernel",
   "language": "scala",
   "name": "spylon-kernel"
  },
  "language_info": {
   "codemirror_mode": "text/x-scala",
   "file_extension": ".scala",
   "help_links": [
    {
     "text": "MetaKernel Magics",
     "url": "https://metakernel.readthedocs.io/en/latest/source/README.html"
    }
   ],
   "mimetype": "text/x-scala",
   "name": "scala",
   "pygments_lexer": "scala",
   "version": "0.4.1"
  }
 },
 "nbformat": 4,
 "nbformat_minor": 2
}
