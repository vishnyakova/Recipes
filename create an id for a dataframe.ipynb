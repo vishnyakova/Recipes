{
 "cells": [
  {
   "cell_type": "markdown",
   "metadata": {},
   "source": [
    "Make an variable id"
   ]
  },
  {
   "cell_type": "code",
   "execution_count": 4,
   "metadata": {},
   "outputs": [
    {
     "name": "stdout",
     "output_type": "stream",
     "text": [
      "+------+\n",
      "|letter|\n",
      "+------+\n",
      "|     a|\n",
      "|     b|\n",
      "|     c|\n",
      "+------+\n",
      "\n"
     ]
    },
    {
     "data": {
      "text/plain": [
       "df: org.apache.spark.sql.DataFrame = [letter: string]\n"
      ]
     },
     "execution_count": 4,
     "metadata": {},
     "output_type": "execute_result"
    }
   ],
   "source": [
    "val df = Seq((\"a\"), (\"b\"), (\"c\")).toDF(\"letter\")\n",
    "df.show()"
   ]
  },
  {
   "cell_type": "code",
   "execution_count": 5,
   "metadata": {},
   "outputs": [
    {
     "name": "stdout",
     "output_type": "stream",
     "text": [
      "+------+---+\n",
      "|letter|_id|\n",
      "+------+---+\n",
      "|     a|  0|\n",
      "|     b|  1|\n",
      "|     c|  2|\n",
      "+------+---+\n",
      "\n"
     ]
    },
    {
     "data": {
      "text/plain": [
       "df_e: org.apache.spark.sql.DataFrame = [letter: string, _id: bigint]\n"
      ]
     },
     "execution_count": 5,
     "metadata": {},
     "output_type": "execute_result"
    }
   ],
   "source": [
    "val df_e = df\n",
    ".withColumn(\"_id\", monotonically_increasing_id)\n",
    "\n",
    "df_e.show()"
   ]
  }
 ],
 "metadata": {
  "kernelspec": {
   "display_name": "spylon-kernel",
   "language": "scala",
   "name": "spylon-kernel"
  }
 },
 "nbformat": 4,
 "nbformat_minor": 2
}
