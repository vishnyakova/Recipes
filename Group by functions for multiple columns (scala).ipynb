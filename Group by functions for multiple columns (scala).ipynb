{
 "cells": [
  {
   "cell_type": "code",
   "execution_count": 2,
   "metadata": {},
   "outputs": [
    {
     "name": "stdout",
     "output_type": "stream",
     "text": [
      "+---+----+------------+------+------+\n",
      "| id|item|another_item|value1|value2|\n",
      "+---+----+------------+------+------+\n",
      "|  A|   a|           e|     1|     2|\n",
      "|  B|   a|           f|     2|     3|\n",
      "|  C|   c|           g|     3|     4|\n",
      "+---+----+------------+------+------+\n",
      "\n"
     ]
    },
    {
     "data": {
      "text/plain": [
       "df: org.apache.spark.sql.DataFrame = [id: string, item: string ... 3 more fields]\n"
      ]
     },
     "execution_count": 2,
     "metadata": {},
     "output_type": "execute_result"
    }
   ],
   "source": [
    "val df = Seq(\n",
    "  (\"A\", \"a\", \"e\", 1, 2),\n",
    "  (\"B\", \"a\", \"f\", 2, 3),\n",
    "  (\"C\", \"c\", \"g\", 3, 4)\n",
    ")\n",
    ".toDF(\"id\", \"item\", \"another_item\", \"value1\", \"value2\")\n",
    "\n",
    "df.show()"
   ]
  },
  {
   "cell_type": "code",
   "execution_count": 3,
   "metadata": {},
   "outputs": [
    {
     "name": "stdout",
     "output_type": "stream",
     "text": [
      "+----+------+------+\n",
      "|item|value1|value2|\n",
      "+----+------+------+\n",
      "|   c|   3.0|   4.0|\n",
      "|   a|   1.5|   2.5|\n",
      "+----+------+------+\n",
      "\n"
     ]
    },
    {
     "data": {
      "text/plain": [
       "list: Array[String] = Array(value1, value2)\r\n",
       "expr: Array[org.apache.spark.sql.Column] = Array(avg(value1) AS `value1`, avg(value2) AS `value2`)\n"
      ]
     },
     "execution_count": 3,
     "metadata": {},
     "output_type": "execute_result"
    }
   ],
   "source": [
    "//  using map and selected variables only\n",
    "val list = Array(\"value1\", \"value2\")\n",
    "\n",
    "val expr = list.map((s: String) => mean(col(s)).as(s))\n",
    "\n",
    "\n",
    "df\n",
    ".groupBy(\"item\")\n",
    ".agg(expr.head, expr.tail: _*)\n",
    ".show()"
   ]
  },
  {
   "cell_type": "markdown",
   "metadata": {},
   "source": [
    "Group by same function"
   ]
  },
  {
   "cell_type": "code",
   "execution_count": 4,
   "metadata": {},
   "outputs": [
    {
     "name": "stdout",
     "output_type": "stream",
     "text": [
      "+----+-----------+-----------+\n",
      "|item|sum(value1)|sum(value2)|\n",
      "+----+-----------+-----------+\n",
      "|   c|          3|          4|\n",
      "|   a|          3|          5|\n",
      "+----+-----------+-----------+\n",
      "\n"
     ]
    }
   ],
   "source": [
    "df\n",
    ".groupBy(\"item\")\n",
    ".sum()\n",
    ".show()"
   ]
  }
 ],
 "metadata": {
  "kernelspec": {
   "display_name": "spylon-kernel",
   "language": "scala",
   "name": "spylon-kernel"
  },
  "language_info": {
   "codemirror_mode": "text/x-scala",
   "file_extension": ".scala",
   "help_links": [
    {
     "text": "MetaKernel Magics",
     "url": "https://metakernel.readthedocs.io/en/latest/source/README.html"
    }
   ],
   "mimetype": "text/x-scala",
   "name": "scala",
   "pygments_lexer": "scala",
   "version": "0.4.1"
  }
 },
 "nbformat": 4,
 "nbformat_minor": 2
}
